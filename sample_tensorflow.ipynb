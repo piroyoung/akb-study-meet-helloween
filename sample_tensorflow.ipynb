{
 "cells": [
  {
   "cell_type": "code",
   "execution_count": 1,
   "metadata": {},
   "outputs": [
    {
     "data": {
      "text/plain": [
       "sys.version_info(major=3, minor=6, micro=4, releaselevel='final', serial=0)"
      ]
     },
     "execution_count": 1,
     "metadata": {},
     "output_type": "execute_result"
    }
   ],
   "source": [
    "import sys\n",
    "sys.version_info"
   ]
  },
  {
   "cell_type": "code",
   "execution_count": 2,
   "metadata": {},
   "outputs": [],
   "source": [
    "from typing import List, Dict\n",
    "import tensorflow as tf\n",
    "import numpy as np"
   ]
  },
  {
   "cell_type": "code",
   "execution_count": 3,
   "metadata": {},
   "outputs": [],
   "source": [
    "class TFAssertions:\n",
    "    def __init__(self, t: tf.Tensor):\n",
    "        self.t: tf.Tensor = t\n",
    "            \n",
    "    def should_be(self, shape: List) -> None:\n",
    "        assert self.t.shape.as_list() == shape\n",
    "        "
   ]
  },
  {
   "cell_type": "code",
   "execution_count": 4,
   "metadata": {},
   "outputs": [],
   "source": [
    "# グラフ作成用の空のテンソルを宣言\n",
    "x: tf.Tensor = tf.placeholder(name='x', shape=[None, 3], dtype=tf.float32)\n",
    "y: tf.Tensor = tf.placeholder(name='y', shape=[None], dtype=tf.float32)"
   ]
  },
  {
   "cell_type": "code",
   "execution_count": 5,
   "metadata": {},
   "outputs": [],
   "source": [
    "# 学習したい変数とその初期値の決定方法を宣言\n",
    "w: tf.Variable = tf.get_variable(name='w', shape=[3, 1], initializer=tf.random_normal_initializer)\n",
    "b: tf.Variable = tf.get_variable(name='b', shape=[1], initializer=tf.random_normal_initializer)"
   ]
  },
  {
   "cell_type": "code",
   "execution_count": 6,
   "metadata": {},
   "outputs": [],
   "source": [
    "# モデルの宣言\n",
    "logits: tf.Tensor = tf.matmul(x, w) + b\n",
    "TFAssertions(logits).should_be(shape=[None, 1])\n",
    "\n",
    "p: tf.Tensor = tf.sigmoid(logits)\n",
    "TFAssertions(p).should_be(shape=[None, 1])"
   ]
  },
  {
   "cell_type": "code",
   "execution_count": 7,
   "metadata": {},
   "outputs": [],
   "source": [
    "# 損失の宣言\n",
    "loss: tf.Tensor = tf.losses.log_loss(labels=y, predictions=tf.squeeze(p))\n",
    "\n",
    "# 目的関数の宣言\n",
    "optimizer: tf.Operation = tf.train.GradientDescentOptimizer(learning_rate=0.1).minimize(loss)"
   ]
  },
  {
   "cell_type": "code",
   "execution_count": 8,
   "metadata": {},
   "outputs": [],
   "source": [
    "# 計算資源の確保と初期化\n",
    "sess: tf.Session = tf.InteractiveSession()\n",
    "sess.run(tf.global_variables_initializer())"
   ]
  },
  {
   "cell_type": "code",
   "execution_count": 9,
   "metadata": {},
   "outputs": [],
   "source": [
    "# 学習データ\n",
    "x_: np.ndarray = np.array([\n",
    "    [0, 0, 1],\n",
    "    [1, 0, 0]\n",
    "])\n",
    "y_: np.ndarray  = np.array([0, 1])\n",
    "feed_dict = {x: x_, y: y_}"
   ]
  },
  {
   "cell_type": "code",
   "execution_count": 10,
   "metadata": {},
   "outputs": [
    {
     "data": {
      "text/plain": [
       "(array([0.8834463, 0.5498717], dtype=float32), array([0., 1.], dtype=float32))"
      ]
     },
     "execution_count": 10,
     "metadata": {},
     "output_type": "execute_result"
    }
   ],
   "source": [
    "# 学習前の予測値\n",
    "sess.run((tf.squeeze(p), y), feed_dict=feed_dict)"
   ]
  },
  {
   "cell_type": "code",
   "execution_count": 11,
   "metadata": {},
   "outputs": [],
   "source": [
    "# 損失が小さくなるまで学習\n",
    "while True:\n",
    "    sess.run(optimizer, feed_dict=feed_dict)\n",
    "    if sess.run(loss, feed_dict=feed_dict) < 0.01:\n",
    "        break"
   ]
  },
  {
   "cell_type": "code",
   "execution_count": 12,
   "metadata": {},
   "outputs": [
    {
     "data": {
      "text/plain": [
       "(array([0.00994903, 0.9900511 ], dtype=float32),\n",
       " array([0., 1.], dtype=float32))"
      ]
     },
     "execution_count": 12,
     "metadata": {},
     "output_type": "execute_result"
    }
   ],
   "source": [
    "# 学習後の予測値\n",
    "sess.run((tf.squeeze(p), y ), feed_dict=feed_dict)"
   ]
  },
  {
   "cell_type": "code",
   "execution_count": null,
   "metadata": {},
   "outputs": [],
   "source": []
  }
 ],
 "metadata": {
  "kernelspec": {
   "display_name": "Python 3",
   "language": "python",
   "name": "python3"
  },
  "language_info": {
   "codemirror_mode": {
    "name": "ipython",
    "version": 3
   },
   "file_extension": ".py",
   "mimetype": "text/x-python",
   "name": "python",
   "nbconvert_exporter": "python",
   "pygments_lexer": "ipython3",
   "version": "3.6.4"
  }
 },
 "nbformat": 4,
 "nbformat_minor": 2
}
